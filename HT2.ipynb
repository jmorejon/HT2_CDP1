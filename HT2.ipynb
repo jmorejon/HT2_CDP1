{
 "cells": [
  {
   "cell_type": "markdown",
   "metadata": {},
   "source": [
    "# Parte 1"
   ]
  },
  {
   "cell_type": "markdown",
   "metadata": {},
   "source": [
    "1. Haga un programa en Python que reciba de parametro un numero de segundos y que despliegue en pantalla, las horas, minutos y segundos que representan"
   ]
  },
  {
   "cell_type": "code",
   "execution_count": 5,
   "metadata": {},
   "outputs": [
    {
     "name": "stdout",
     "output_type": "stream",
     "text": [
      "Ingrese el valor de segundos\n"
     ]
    },
    {
     "name": "stdin",
     "output_type": "stream",
     "text": [
      " 12345\n"
     ]
    },
    {
     "name": "stdout",
     "output_type": "stream",
     "text": [
      "Horas:3, Munitos:25, Segundos:45\n"
     ]
    }
   ],
   "source": [
    "print('Ingrese el valor de segundos')\n",
    "segundos = int(input())\n",
    "segundos = segundos % (24*3600)\n",
    "horas = segundos // 3600\n",
    "segundos %= 3600\n",
    "minutos = segundos // 60\n",
    "segundos %= 60\n",
    "print(\"Horas:%d, Munitos:%02d, Segundos:%02d\" % (horas,minutos,segundos))"
   ]
  },
  {
   "cell_type": "markdown",
   "metadata": {},
   "source": [
    "2. Haga una funcion en Python que dado un numero entre 1 y 20. Y un caracter cualquiera despliegue cuatro patrones triangulares."
   ]
  },
  {
   "cell_type": "code",
   "execution_count": 21,
   "metadata": {},
   "outputs": [
    {
     "name": "stdout",
     "output_type": "stream",
     "text": [
      "Ingrese un numero y un caracter\n",
      "\n"
     ]
    },
    {
     "name": "stdin",
     "output_type": "stream",
     "text": [
      " 3\n",
      " *\n"
     ]
    },
    {
     "name": "stdout",
     "output_type": "stream",
     "text": [
      "\n",
      "\n",
      "* \n",
      "* * \n",
      "* * * \n",
      "\n",
      "\n",
      "  * * * \n",
      "    * * \n",
      "      * \n",
      "\n",
      "\n",
      "* * * \n",
      "* * \n",
      "* \n",
      "\n",
      "\n",
      "    * \n",
      "  * * \n",
      "* * * \n"
     ]
    }
   ],
   "source": [
    "print('Ingrese un numero y un caracter')\n",
    "print()\n",
    "num = int(input())\n",
    "caracter = input()\n",
    "print(\"\\n\")\n",
    "for x in range(0,num):\n",
    "    for y in range(0,x+1):\n",
    "        print(caracter+\" \", end=\"\")\n",
    "    print(\"\\r\")\n",
    "\n",
    "print(\"\\n\")\n",
    "for x in range(0,num):\n",
    "    for y in range(0,x+1):\n",
    "        print(end=\"  \")\n",
    "    for z in range(0,num-x):\n",
    "        print(caracter+\" \", end=\"\")\n",
    "    print(\"\\r\")\n",
    "\n",
    "print(\"\\n\")\n",
    "for x in range(0,num):\n",
    "    for y in range(0,num-x):\n",
    "        print(caracter+\" \", end=\"\")\n",
    "    print(\"\\r\")\n",
    "    \n",
    "print(\"\\n\")\n",
    "\n",
    "for x in range(0,num):\n",
    "    for y in range(1,num-x):\n",
    "        print(end=\"  \")\n",
    "    for z in range(0,x+1):\n",
    "        print(caracter+\" \", end=\"\")\n",
    "    print(\"\\r\")"
   ]
  },
  {
   "cell_type": "markdown",
   "metadata": {},
   "source": [
    "3. Haga un programa en Python que la fecha de nacimiento de una persona (puede ingresar por separado cada valor, es decir pedir primero d´ıa, luego mes y luego a˜no), despliegue la edad de la persona en a˜nos, meses y d´ıas. Su resultado puede ser aproximado."
   ]
  },
  {
   "cell_type": "code",
   "execution_count": 22,
   "metadata": {},
   "outputs": [
    {
     "name": "stdout",
     "output_type": "stream",
     "text": [
      "Ingrese el dia de nacimiento: \n",
      "\n"
     ]
    },
    {
     "name": "stdin",
     "output_type": "stream",
     "text": [
      " 1\n"
     ]
    },
    {
     "name": "stdout",
     "output_type": "stream",
     "text": [
      "Ingrese el mes de nacimiento: \n",
      "\n"
     ]
    },
    {
     "name": "stdin",
     "output_type": "stream",
     "text": [
      " 1\n"
     ]
    },
    {
     "name": "stdout",
     "output_type": "stream",
     "text": [
      "Ingrese el año de nacimiento: \n",
      "\n"
     ]
    },
    {
     "name": "stdin",
     "output_type": "stream",
     "text": [
      " 1990\n"
     ]
    },
    {
     "name": "stdout",
     "output_type": "stream",
     "text": [
      "Usted tiene:  31 años 1 meses 20 días\n"
     ]
    }
   ],
   "source": [
    "import datetime\n",
    "\n",
    "print('Ingrese el dia de nacimiento: \\n')\n",
    "day=int(input())\n",
    "print('Ingrese el mes de nacimiento: \\n')\n",
    "month=int(input())\n",
    "print('Ingrese el año de nacimiento: \\n')\n",
    "year = int(input())\n",
    "\n",
    "_day = datetime.date.today().day\n",
    "_month = datetime.date.today().month\n",
    "_year = datetime.date.today().year\n",
    "\n",
    "e_day = _day - day\n",
    "e_month = _month - month\n",
    "e_year = _year - year\n",
    "\n",
    "print(\"Usted tiene: \", e_year, \"años\", e_month, \"meses\", e_day, \"días\")"
   ]
  },
  {
   "cell_type": "code",
   "execution_count": null,
   "metadata": {},
   "outputs": [],
   "source": []
  }
 ],
 "metadata": {
  "kernelspec": {
   "display_name": "Python 3",
   "language": "python",
   "name": "python3"
  },
  "language_info": {
   "codemirror_mode": {
    "name": "ipython",
    "version": 3
   },
   "file_extension": ".py",
   "mimetype": "text/x-python",
   "name": "python",
   "nbconvert_exporter": "python",
   "pygments_lexer": "ipython3",
   "version": "3.8.5"
  }
 },
 "nbformat": 4,
 "nbformat_minor": 4
}
